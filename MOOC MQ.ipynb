{
 "cells": [
  {
   "cell_type": "markdown",
   "metadata": {},
   "source": [
    "# Travail numérique de PHYS-F-302 \n",
    "## Safae Ben Ayad & Guillaume Houyoux\n",
    "\n",
    "### Introduction & quelques équations"
   ]
  },
  {
   "cell_type": "markdown",
   "metadata": {},
   "source": [
    "Pour ce travail, nous nous interessons à un type d'écoulement, soit $\\textbf{l'écoulement de Stokes}$. Plus concretement, nous voudrons résoudre $\\textbf{l'équation biharmonique}$ dans le but de résoudre numériquement l'écoulement de Stokes dans une cavité carrée.\n",
    "\n",
    "$\\textbf{L'écoulement de Stokes}$ s'agit d'un écoulement dont les effets dû à la force de viscosité du liquide sont très importants par rapport aux effets dûs à d'autres forces comme, par exemple, la force d'inertie. Un écoulement peut être supposé de Stokes dans un certain cadre; ce cadre est delimité par une condition sur le $\\textbf{nombre de Reynolds (Re)}$ étant que celui-ci soit inférieur à 1. \n",
    "\n",
    "Le nombre de Reynolds, donné ci-dessous, représente le rapport entre les forces d'inertie et les forces visqueuses ce qui implique que un Re plus petit que 1 revient à notre énonciation précédente où nous affirmons que les écoulements de Stokes sont dominés par des forces dûes à la viscosité. \n",
    "\n",
    "$${\\displaystyle \\mathrm {Re} ={\\frac {uL}{\\nu }}}$$\n",
    "\n",
    "où $\\nu$ est la viscosité, $u$ la vitesse et $L$ une longueur caractéristique.\n",
    "\n",
    "De plus, ce nombre permet de réecrire l'equation de $\\textbf{Navier-Stokes}$ (sous l'hypothèse d'écoulement incompressible) qui suit comme étant une équation non dimensionnelle (1): \n",
    "\n",
    " \\begin{eqnarray}\n",
    "\\frac{\\partial u}{\\partial t} + u \\cdot \\nabla u = -\\frac{1}{\\rho}\\nabla p + \\nu\\nabla^2 u \n",
    "\\end{eqnarray}\n",
    "\n",
    "\n",
    "\\begin{eqnarray} \n",
    " Re \\left(\\frac{\\partial u^*}{\\partial t} + u^* \\cdot \\nabla u^* \\right) = -\\nabla p^* + \\nabla^2 u^*   \\text{ (1)}\n",
    "\\end{eqnarray}\n",
    "\n",
    "où  $u^*$ et $p^*$ sont les coefficients adimensionnels pour la vitesse et la pression respectivement.\n",
    "  \n",
    "Afin de trouver l'écoulement de Stokes, nous supposons que Re tend vers 0 de manière à retrouver l'équation suivante\n",
    "\n",
    "\\begin{equation}\n",
    " - \\nabla p + \\nabla^2 u = 0\n",
    "\\end{equation}\n",
    "\n",
    "Et si nous appliquons le rotationnel des deux cotés, il en résulte: \n",
    "\n",
    "\\begin{equation}\n",
    "0 = \\nabla \\times 0 = \\nabla \\times \\left( - \\nabla p + \\nabla^2 u\\right)\n",
    "\\end{equation}\n",
    "\n",
    "Sachant que le rotationnel du gradient d'un scalaire est nul, \n",
    "\\begin{equation}\n",
    "\\nabla \\times (- \\nabla p) = - \\nabla \\times \\nabla p = 0\n",
    "\\end{equation}\n",
    "\n",
    "nous obtenons finalement l'équation suivante: \n",
    "\n",
    "\\begin{equation}\n",
    " 0 = \\nabla \\times \\nabla^2 u =\\nabla^2\\omega\n",
    "\\end{equation}\n",
    "\n",
    "en terme du vecteur tourbillon (vorticité) qui est donnée par $\\omega = \\nabla \\times u$.\n",
    "\n",
    "Donc nous avons tout simplement l'équation de Poisson dans le cas homogène, soit $\\textbf{l'équation de Laplace}$: \n",
    "\n",
    "\\begin{equation}\n",
    " \\nabla ^2 \\omega = 0\n",
    "\\end{equation}\n"
   ]
  },
  {
   "cell_type": "markdown",
   "metadata": {},
   "source": [
    "Nous avons donc trouvé l'expression pour le tourbillon qui va ensuite nous servir pour trouver $\\textbf{l'équation biharmonique}$. Trouvons à présent la formule pour le courant, nous nous plaçons tout d'abord dans le cas où l'écoulement est bidimensionnel et incompressible. Nous pouvons dire que par definition la fonction du courant sera donné par :\n",
    "\n",
    "\n",
    "$$\\begin{equation}\n",
    "u = \\frac{\\partial \\psi}{\\partial y} \\text{   et   } v = - \\frac{\\partial \\psi}{\\partial x}\n",
    "\\end{equation} $$\n",
    "\n",
    "Sachant que le tourbillon suit l'axe z, les termes en x et y du rotationnel valent 0 et nous gardons plus que:\n",
    "\n",
    "\\begin{equation}\n",
    "\\omega = \\frac{\\partial v}{\\partial x} - \\frac{\\partial u}{\\partial y}\n",
    "\\end{equation}\n",
    "\n",
    "Nous trouvons donc la relation entre $\\psi \\text{ et } \\omega $ en dérivant $\\psi$ une deuxième fois par rapport aux deux coordonnées, nous égalisons avec l'expression d'omega; \n",
    "\n",
    "\\begin{equation}\n",
    "\\nabla^2 \\psi = -\\omega\n",
    "\\end{equation}\n",
    "\n",
    "Par le calcul précédent sur le tourbillon, nous savons que $\\nabla^2 \\omega = 0$, donc nous faisons apparaitre le $\\nabla^2 \\omega$ à droite de la manière suivante:\n",
    "\n",
    "\\begin{equation}\n",
    "\\boxed{\\nabla^4 \\psi= 0}\n",
    "\\end{equation}\n",
    "\n",
    "pour finalement abutir sur l'équation biharmonique souhaitée. Il s'agit de l'équation que nous allons résoudre durant ce travail."
   ]
  },
  {
   "cell_type": "markdown",
   "metadata": {},
   "source": [
    "### Écoulement dans une cavité - conditions aux bords \n",
    "\n",
    "<img src=\"./drivencavity.png\" width=400px>"
   ]
  },
  {
   "cell_type": "markdown",
   "metadata": {
    "collapsed": true
   },
   "source": [
    "Nous voudrons résoudre le problème du courant dans la cavité à couvercle mouvant afin d'examiner l'écoulement de Stokes.\n",
    "\n",
    "Nous devons supposer pour ce problème que nous avons un couvercle qui se deplace à une vitesse constante $u=1$ et que le fluide ne depasse pas la cavité à travers le bord du couvercle, autrement dit; nous avons imperméabilité des bords, le couvercle étant inclu. Nous supposons également que les parois sont non-glissantes.\n",
    "Les conditions aux bord-ci dessus sont toute données en terme de la fonction de courant $\\psi$.\n",
    "\n",
    "Sachant donc que le fluide ne sort pas de la cavité, les conditions de Dirichlet seront toutes nulles. En ce qui concerne les conditions de Neumann, nous savons que la parois supérieure a une vitesse égale à $u=1$ et en supposant que les parois sont non glissantes, le flot au long du couvercle aura lui aussi une vitesse constante égale à celle du couvercle. En ce qui concerne les autres bords, ils sont immobiles donc le flot parallèle le sera aussi.\n"
   ]
  },
  {
   "cell_type": "markdown",
   "metadata": {},
   "source": [
    "### Discretisation de l'équation biharmonique de second ordre\n",
    "\n",
    "Nous allons tout d'abord developper notre équation biharmonique en 2D dans un système de coordonnées cartesiennes, de manière à l'avoir sous la forme suivante: \n",
    "\n",
    "$$\\nabla^4 \\psi= \\frac{\\partial^4 \\psi}{\\partial x^4}+\\frac{\\partial^4 \\psi}{\\partial y^4}+2\\frac{\\partial^4 \\psi}{\\partial x^2\\partial y^2} = 0$$\n",
    "\n",
    "Ensuite, nous allons discretiser cette équation d'après la section 05_01_2D.Laplace.Equation en traitant chacun des termes individuellement. Commençant par le premier terme:"
   ]
  },
  {
   "cell_type": "markdown",
   "metadata": {},
   "source": [
    "$$\\begin{align}\n",
    "\\frac{\\partial^4 \\psi}{\\partial x^4} & =  \\frac{\\partial^2}{\\partial x^2}\\left(\\frac{\\partial^2 \\psi}{\\partial x^2}\\right) =\\frac{\\left(\\frac{\\partial^2 \\psi}{\\partial x^2}\\right)_{i+1,j}^k-2 \\left(\\frac{\\partial^2\\psi}{\\partial x^2}\\right)_{i,j}^k +\\left(\\frac{\\partial^2 \\psi}{\\partial x^2}\\right)_{i-1,j}^k}{\\Delta x^2} \\\\\n",
    "& = \\frac{\\left(\\psi_{i+1,j}^k-2\\psi_{i,j}^k+\\psi_{i-1,j}^k\\right)_{i+1,j}^k -2\\left(\\psi_{i+1,j}^k-2\\psi_{i,j}^k+\\psi_{i-1,j}^k\\right)_{i,j}^k+\\left(\\psi_{i+1,j}^k-2\\psi_{i,j}^k+\\psi_{i-1,j}^k\\right)_{i-1,j}^k}{\\Delta x^4} \\\\\n",
    "\\end{align}$$\n",
    "\n",
    "Nous trouvons finalement pour le premier terme la discretization suivante:\n",
    "\n",
    "$\\begin{align} \\frac{\\partial^4 \\psi}{\\partial x^4} & = \\frac{\\psi_{i+2,j}^k - 2\\psi_{i+1,j}^k +\\psi_{i,j}^k -2 \\psi_{i+1,j}^k +4 \\psi_{i,j}^k -2\\psi_{i-1,j}^k + \\psi_{i,j}^k -2 \\psi_{i-1,j}^k +\\psi_{i-2,j}^k}{\\Delta x^4} \\\\\n",
    "& = \\frac{\\psi_{i+2,j}^k-4\\psi_{i+1,j}^k+6\\psi_{i,j}^k-4\\psi_{i-1,j}^k+\\psi_{i-2,j}^k}{\\Delta x^4} \\end{align}$\n",
    "\n",
    "Idem pour la derivée en $y^4$: \n",
    "\n",
    "$\\begin{align} \\frac{\\partial^4 \\psi}{\\partial y^4} & = \\frac{\\psi_{i,j+2}^k - 2\\psi_{i,j+1}^k +\\psi_{i,j}^k -2 \\psi_{i,j+1}^k +4 \\psi_{i,j}^k -2\\psi_{i,j-1}^k + \\psi_{i,j}^k -2 \\psi_{i,j-1}^k +\\psi_{i,j-2}^k}{\\Delta y^4} \\\\\n",
    "& = \\frac{\\psi_{i,j+2}^k-4\\psi_{i,j+1}^k+6\\psi_{i,j}^k-4\\psi_{i,j-1}^k+\\psi_{i,j-2}^k}{\\Delta y^4} \\end{align}$\n",
    "\n",
    "En ce qui concerne le terme mix $\\frac{\\partial^4 \\psi}{\\partial x^2\\partial y^2}$, nous discretisons de manière similaire d'abord la discretization par rapport à x ensuite par rapport à y:\n",
    "\n",
    "\n",
    "$\\begin{align} \\frac{\\partial^4 \\psi}{\\partial x^2\\partial y^2} & =\n",
    "\\frac{\\partial^2}{\\partial x^2}\\left(\\frac{\\partial^2 \\psi}{\\partial y^2}\\right) \\\\ \n",
    "& =  \\frac{\\left(\\frac{\\partial^2 \\psi}{\\partial y^2}\\right)_{i+1,j}^k-2 \\left(\\frac{\\partial^2\\psi}{\\partial y^2}\\right)_{i,j}^k + \\left(\\frac{\\partial^2 \\psi}{\\partial y^2}\\right)_{i-1,j}^k}{\\Delta x^2}\\end{align}$\n",
    "\n",
    "\n",
    "$$ = \\frac{\\left(\\psi_{i,j+1}^k-2\\psi_{i,j}^k+\\psi_{i,j-1}^k\\right)_{i+1,j}^k -2\\left(\\psi_{i,j+1}^k-2\\psi_{i,j}^k+\\psi_{i,j-1}^k\\right)_{i,j}^k+\\left(\\psi_{i,j+1}^k-2\\psi_{i,j}^k+\\psi_{i,j-1}^k\\right)_{i-1,j}^k}{\\Delta x^2\\Delta y^2}\\\\\n",
    " = \\frac{\\psi_{i+1,j+1}^k -2\\psi_{i+1,j}^k+\\psi_{i+1,j-1}^k-2\\psi_{i,j+1}^k+4\\Psi_{i,j}^k-2\\psi_{i,j-1}^k+\\psi_{i-1,j+1}^k-2\\psi_{i-1,j}^k+\\psi_{i-1,j-1}^k}{\\Delta x^2\\Delta y^2}$$\n",
    "\n",
    "Si nous prenons $\\Delta x^2 = \\Delta y^2$, nous aboutissons sur l'expression suivante pour $2\\frac{\\partial^4 \\psi}{\\partial x^2\\partial y^2}$ :\n",
    "\n",
    "$$ \\frac{2\\psi_{i+1,j+1}^k -4\\psi_{i+1,j}^k+2\\psi_{i+1,j-1}^k-4\\psi_{i,j+1}^k+8\\psi_{i,j}^k-4\\psi_{i,j-1}^k+2\\psi_{i-1,j+1}^k-4\\psi_{i-1,j}^k+2\\psi_{i-1,j-1}^k}{\\Delta x^4} $$\n",
    "\n",
    "Finalement, nous avons: \n",
    "$$\\nabla^4 \\psi = \\left(20\\psi_{i,j}^k +2\\psi_{i+1,j+1}^k +2\\psi_{i+1,j-1}^k +2\\psi_{i-1,j+1}^k +2\\psi_{i-1,j-1}^k +\\psi_{i+2,j}^k +\\psi_{i-2,j}^k+ \\psi_{i,j+2}^k +\\psi_{i,j-2}^k -8\\psi_{i+1,j}^k -8\\psi_{i-1,j}^k -8\\psi_{i,j+1}^k  -8\\psi_{i,j-1}^k \\right)\\frac{1}{\\Delta x^4} = 0$$"
   ]
  },
  {
   "cell_type": "markdown",
   "metadata": {},
   "source": [
    "### Implementation des conditions aux bord \n",
    "\n",
    "En utilisant les coefficients de discretization  $\\textit{forward}$ et $\\textit{backward}$ trouvé à la réference suivante: https://en.wikipedia.org/wiki/Finite_difference_coefficient, nous allons implémenter les différences finies de second ordre des conditions aux bords.\n",
    "\n",
    "Commençons par les C.B. de Dirichlet:\n",
    "\n",
    "$$\\left.\\psi_{i,j}\\right|_{x=0}=0$$\n",
    "\n",
    "$$\\left.\\psi_{i,j}\\right|_{x=nx}=0$$\n",
    "\n",
    "$$\\left.\\psi_{i,j}\\right|_{y=0}=0$$\n",
    "\n",
    "$$\\left.\\psi_{i,j}\\right|_{y=ny}=0 $$\n",
    "\n",
    "Sachant que $ny$ et $nx$ sont le nombre de points. Donc en $x=nx$ il s'agit de la position $x = Lx$ où $L$ sera la longueur de la cavité et $y=ny$ serait $y = Ly$ où $L$ est la hauteur de la cavité prétendument (origine dans le coin bas à gauche).\n",
    "\n",
    "Continuons, à présent nous allons discretiser les C.B. de Neumann:\n",
    "\n",
    "$\\textit{foward}$\n",
    "$\\left.\\frac{\\partial \\psi}{\\partial x}\\right|_{x = 0} = \\frac{-3/2 \\psi_{i,j}^k +2 \\psi_{i+1,j}^k -1/2 \\psi_{i+2,j}^k}{\\Delta x} = 0$\n",
    "\n",
    "$\\textit{backward}$\n",
    "$\\left.\\frac{\\partial \\psi}{\\partial x}\\right|_{x = nx} = \\frac{3/2 \\psi_{i,j}^k -2 \\psi_{i-1,j}^k +1/2 \\psi_{i-2,j}^k}{\\Delta x} = 0$\n",
    "\n",
    "$\\textit{foward}$\n",
    "$\\left.\\frac{\\partial \\psi}{\\partial y}\\right|_{y = 0} = \\frac{-3/2 \\psi_{i,j}^k +2 \\psi_{i,j+1}^k -1/2 \\psi_{i,j+2}^k}{\\Delta y} = 0$\n",
    "\n",
    "$\\textit{backward}$\n",
    "$\\left.\\frac{\\partial \\psi}{\\partial y}\\right|_{y = ny} = \\frac{3/2 \\psi_{i,j}^k -2 \\psi_{i,j-1}^k + 1/2 \\psi_{i,j-2}^k}{\\Delta y} = 1$\n",
    "\n",
    "Et en tenant compte des conditions de Dirichlet que nous avons ecrit un peu plus haut dans celles de Neumann, nous obtenons les 4 équations suivantes: \n",
    "\n",
    "\n",
    "$$\\begin{align}\n",
    "4\\psi_{i+1,j}^k & = \\psi_{i+2,j}^k  \\text{ pour la parois de gauche }\\\\\n",
    "4\\psi_{i-1,j}^k & = \\psi_{i-2,j}^k  \\text{ pour la parois de droite } \\\\\n",
    "4\\psi_{i,j+1}^k & = \\psi_{i,j+2}^k  \\text{ pour la parois du bas } \\\\\n",
    "4\\psi_{i,j-1}^k & = \\psi_{i,j-2}^k - 2\\Delta y  \\text{ pour le couvercle } \\end{align}$$\n"
   ]
  },
  {
   "cell_type": "code",
   "execution_count": 1,
   "metadata": {
    "collapsed": true
   },
   "outputs": [],
   "source": [
    "import numpy as np\n",
    "from matplotlib import pyplot\n",
    "import matplotlib.pyplot as plt\n",
    "import matplotlib.cm as cm\n",
    "%matplotlib inline \n",
    "\n",
    "from math import pi"
   ]
  },
  {
   "cell_type": "markdown",
   "metadata": {},
   "source": [
    "Implémontons à présent notre matrice $m_0$, contenant les C.B.. Nous partons d'une matrices de zéros car à l'état initiale, le système est au repos donc nul pour tous les points internes de la grille de la cavité (internal nodes) mise à part le couvercle qui se déplace à vitesse constante. L'idée étant ici d'utiliser la methode itérative du $\\textit{Gradient Conjugé}$ avec une premiere supposition $m_0$ et la modifier de manière à s'approcher de plus en plus de la solution."
   ]
  },
  {
   "cell_type": "code",
   "execution_count": 2,
   "metadata": {
    "collapsed": true
   },
   "outputs": [],
   "source": [
    "#Données du problème\n",
    "\n",
    "nx, ny = 41, 41    # number of points in each direction        \n",
    "\n",
    "l = 1. # length of the cavity\n",
    "h = 1. # height of the cavity\n",
    "\n",
    "dx = l/(nx-1) # grid spacing in the x direction\n",
    "dy = h/(ny-1) # grid spacing in the y direction\n",
    "\n",
    "l1_target_1 = 1e-8 # Condition d'arrêt"
   ]
  },
  {
   "cell_type": "code",
   "execution_count": 29,
   "metadata": {},
   "outputs": [
    {
     "name": "stdout",
     "output_type": "stream",
     "text": [
      "(41, 41)\n"
     ]
    }
   ],
   "source": [
    "m_0 = np.zeros((ny,nx), dtype=float) # matrice initiale de 0's car fluide au repos\n",
    "\n",
    "# Condition de Dirichlet\n",
    "m_0[0,:] = 0\n",
    "m_0[-1,:] = 0 #axe y inversé\n",
    "m_0[:,0] = 0\n",
    "m_0[:,-1] = 0 #axe y inversé\n",
    "\n",
    "\n",
    "# Condition de Neumann \n",
    "m_0[1:-1,1] = m_0[1:-1,2]*(1/4)            #  x = 0 (parois de gauche)\n",
    "m_0[1:-1,-2] = m_0[1:-1,-3]*(1/4)          #  x = nx (parois de droite)\n",
    "m_0[1,2:-2] = m_0[2,2:-2]*(1/4)            #  y = 0 (parois du bas) \n",
    "m_0[-2,2:-2] = m_0[-3,2:-2]*(1/4) - dy/2   #  y = ny (couvercle)  #mouvement de la cavité\n",
    "\n",
    "print(m_0.shape)\n",
    "\n",
    "# CB bons ou 2:-2  ?\n",
    "# vals\n",
    "# bords sur plot ?\n",
    "# fonction de biharm bonne?"
   ]
  },
  {
   "cell_type": "markdown",
   "metadata": {},
   "source": [
    "### Résolution de l'équation biharmonique "
   ]
  },
  {
   "cell_type": "code",
   "execution_count": 11,
   "metadata": {
    "collapsed": true
   },
   "outputs": [],
   "source": [
    "def L1norm(new, old):\n",
    "    norm = np.sum(np.abs(new-old))\n",
    "    return norm"
   ]
  },
  {
   "cell_type": "code",
   "execution_count": 54,
   "metadata": {
    "collapsed": true
   },
   "outputs": [],
   "source": [
    "# la fonction A applique l'opérateur A sur psi\n",
    "def A(psi):\n",
    "    A_sur_psi = np.zeros((ny,nx), dtype=float)\n",
    "    A_sur_psi[2:-2,2:-2] = ( 20*psi[2:-2,2:-2] + 2*psi[3:-1,3:-1] + 2*psi[3:-1,1:-3] + 2*psi[1:-3,1:-3] + 2*psi[1:-3,3:-1] \n",
    "                            + psi[4:0,2:-2] + psi[2:-2,4:0] + psi[0:-4,2:-2] + psi[2:-2,0:-4]\n",
    "                            - 8*psi[2:-2,3:-1]- 8*psi[2:-2,1:-3]- 8*psi[3:-1,2:-2]- 8*psi[1:-3,2:-2])*1/dx**4\n",
    "    \n",
    "def biharmonic_conjugate_gradient(m_0, b, dx, dy, maxiter=20000, rtol=1e-8):\n",
    "    \"\"\"\n",
    "    Résous l'équation biharmonique à 2D sur une grille uniforme\n",
    "    avec même espacement dans les 2 directions, \n",
    "    en utilisant la méthode du gradient conjugé et un terme de source.\n",
    "    \n",
    "    ----------\n",
    "    m_0 : numpy.ndarray\n",
    "        la matrice initiale.\n",
    "    b : numpy.ndarray\n",
    "        terme de source.\n",
    "    dx : float\n",
    "        espacement de la grille en x\n",
    "    dy : float\n",
    "        espacement de la grille en y\n",
    "    maxiter : integer, optional\n",
    "        nombre maximal d'itérations à effectuer;\n",
    "        par défaut: 20000.\n",
    "    rtol : float, optional\n",
    "        tolérance relative pour la convergence;\n",
    "        default: 1e-6.\n",
    "\n",
    "    Returns\n",
    "    -------\n",
    "    p : numpy.ndarray\n",
    "        La solution apres relaxation comme étant un tableau 2D.\n",
    "    ite : integer\n",
    "        Nombre d'itérations effectués.\n",
    "    conv : list\n",
    "        l'historique des convergence sous forme d'une liste.\n",
    "    \"\"\"\n",
    "    def A(psi):\n",
    "        A_sur_psi = np.zeros((ny,nx), dtype=float)\n",
    "        A_sur_psi[2:-2,2:-2] = ( 20*psi[2:-2,2:-2] + 2*psi[3:-1,3:-1] + 2*psi[3:-1,1:-3] + 2*psi[1:-3,1:-3] + 2*psi[1:-3,3:-1] \n",
    "                            + psi[4:,2:-2] + psi[2:-2,4:] + psi[0:-4,2:-2] + psi[2:-2,0:-4]\n",
    "                            - 8*psi[2:-2,3:-1]- 8*psi[2:-2,1:-3]- 8*psi[3:-1,2:-2]- 8*psi[1:-3,2:-2])*1/dx**4\n",
    "        return A_sur_psi\n",
    "    \n",
    "    p = m_0.copy()\n",
    "    r = np.zeros_like(p)   # initial residual\n",
    "    Ad = np.zeros_like(p)  # to store the mat-vec multiplication\n",
    "    conv = []  # convergence history\n",
    "    diff = rtol + 1  # initial difference\n",
    "    ite = 0  # iteration index\n",
    "    # Compute the initial residual.\n",
    "    r = b - A(p)\n",
    "    # Set the initial search direction to be the residual.\n",
    "    d = r.copy()\n",
    "    while diff > rtol and ite < maxiter:\n",
    "        pk = p.copy()\n",
    "        rk = r.copy()\n",
    "        # Compute the Laplacian of the search direction.\n",
    "        Ad = A(d)\n",
    "        # Compute the step size.\n",
    "        alpha = np.sum(r * r) / np.sum(d * Ad)\n",
    "        # Update the solution.\n",
    "        p = pk + alpha * d\n",
    "        \n",
    "        # reappliquer les CB: update the BC\n",
    "        \n",
    "        m_0[-1,:] = 0\n",
    "        m_0[0,:] = 0\n",
    "        m_0[:,0] = 0\n",
    "        m_0[:,-1] = 0 \n",
    "               \n",
    "        m_0[1,2:-2] = m_0[2,2:-2]*(1/4)            \n",
    "        m_0[-2,2:-2] = m_0[-3,2:-2]*(1/4) - dy/2\n",
    "        m_0[1:-1,1] = m_0[1:-1,2]*(1/4)            \n",
    "        m_0[1:-1,-2] = m_0[1:-1,-3]*(1/4)   \n",
    "        \n",
    "        # Update the residual.\n",
    "        r = rk - alpha * Ad\n",
    "        # Update the search direction.\n",
    "        beta = np.sum(r * r) / np.sum(rk * rk)\n",
    "        d = r + beta * d\n",
    "        \n",
    "        # Compute the relative L1-norm of the difference.\n",
    "        diff = L1norm(p, pk)\n",
    "        conv.append(diff)   # norme entre 2 etapes qui va arreter \n",
    "        ite += 1\n",
    "    return p, ite, conv     #valeurs de la sol, nombre d'itération, convergence ? "
   ]
  },
  {
   "cell_type": "markdown",
   "metadata": {},
   "source": [
    "### Plot\n"
   ]
  },
  {
   "cell_type": "code",
   "execution_count": 55,
   "metadata": {},
   "outputs": [
    {
     "name": "stdout",
     "output_type": "stream",
     "text": [
      "648\n"
     ]
    },
    {
     "data": {
      "image/png": "[encoded data removed]",
      "text/plain": [
       "<Figure size 432x288 with 2 Axes>"
      ]
     },
     "metadata": {},
     "output_type": "display_data"
    }
   ],
   "source": [
    "fig, ax = plt.subplots()\n",
    "\n",
    "x = np.linspace(0,l,nx)\n",
    "y = np.linspace(0,h,ny)\n",
    "X,Y = np.meshgrid(x,y)\n",
    "Z = biharmonic_conjugate_gradient(m_0, 0, dx, dy, maxiter=20000, rtol=1e-8)[0]\n",
    "print(biharmonic_conjugate_gradient(m_0, 0, dx, dy, maxiter=20000, rtol=1e-8)[1])\n",
    "\n",
    "pyplot.title('Solution de l équation biharmonique')\n",
    "pyplot.xlabel('x')\n",
    "pyplot.ylabel('y')\n",
    "\n",
    "\n",
    "color = ax.pcolor(X,Y,Z)\n",
    "cp = fig.colorbar(color)\n",
    "\n"
   ]
  },
  {
   "cell_type": "code",
   "execution_count": 56,
   "metadata": {},
   "outputs": [
    {
     "data": {
      "text/plain": [
       "Text(0,0.5,'y')"
      ]
     },
     "execution_count": 56,
     "metadata": {},
     "output_type": "execute_result"
    },
    {
     "data": {
      "image/png": "[encoded data removed]",
      "text/plain": [
       "<Figure size 432x288 with 1 Axes>"
      ]
     },
     "metadata": {},
     "output_type": "display_data"
    }
   ],
   "source": [
    "cc = fig.colorbar(plt.contourf(X,Y,Z, 20, cmap = cm.viridis))\n",
    "\n",
    "pyplot.title('Solution de l équation biharmonique')\n",
    "pyplot.xlabel('x')\n",
    "pyplot.ylabel('y')"
   ]
  },
  {
   "cell_type": "markdown",
   "metadata": {},
   "source": [
    "Quelle est la valeur de la fonction du courant aux points suivant: (0.6,0.2), (0.6,0.4), (0.6,0.6), (0.6,0.8)?\n",
    "Sachant que nx, ny = 41, 41 ; (1/40 = ee => 0.6/ee, 1/40= ff => 0.2/ff)."
   ]
  },
  {
   "cell_type": "code",
   "execution_count": 57,
   "metadata": {},
   "outputs": [
    {
     "name": "stdout",
     "output_type": "stream",
     "text": [
      "La valeur de la fonction du courant au point (0.6,0.2) est : -0.004703\n",
      "La valeur de la fonction du courant au point (0.6,0.4) est : -0.018196\n",
      "La valeur de la fonction du courant au point (0.6,0.6) est : -0.038475\n",
      "La valeur de la fonction du courant au point (0.6,0.8) est : -0.050566\n"
     ]
    }
   ],
   "source": [
    "print('La valeur de la fonction du courant au point (0.6,0.2) est : {0:f}'.format(Z[8,24]))\n",
    "print('La valeur de la fonction du courant au point (0.6,0.4) est : {0:f}'.format(Z[16,24]))\n",
    "print('La valeur de la fonction du courant au point (0.6,0.6) est : {0:f}'.format(Z[24,24]))\n",
    "print('La valeur de la fonction du courant au point (0.6,0.8) est : {0:f}'.format(Z[32,24]))"
   ]
  },
  {
   "cell_type": "code",
   "execution_count": 58,
   "metadata": {},
   "outputs": [
    {
     "ename": "SyntaxError",
     "evalue": "invalid syntax (<ipython-input-58-f6632ab4db80>, line 1)",
     "output_type": "error",
     "traceback": [
      "\u001b[0;36m  File \u001b[0;32m\"<ipython-input-58-f6632ab4db80>\"\u001b[0;36m, line \u001b[0;32m1\u001b[0m\n\u001b[0;31m    La valeur de la fonction du courant au point (0.6,0.2) est : -0.004702\u001b[0m\n\u001b[0m            ^\u001b[0m\n\u001b[0;31mSyntaxError\u001b[0m\u001b[0;31m:\u001b[0m invalid syntax\n"
     ]
    }
   ],
   "source": [
    "La valeur de la fonction du courant au point (0.6,0.2) est : -0.004702\n",
    "La valeur de la fonction du courant au point (0.6,0.4) est : -0.018197\n",
    "La valeur de la fonction du courant au point (0.6,0.6) est : -0.038480\n",
    "La valeur de la fonction du courant au point (0.6,0.8) est : -0.050575"
   ]
  },
  {
   "cell_type": "code",
   "execution_count": 48,
   "metadata": {},
   "outputs": [
    {
     "ename": "SyntaxError",
     "evalue": "invalid syntax (<ipython-input-48-a683fe0e9b89>, line 1)",
     "output_type": "error",
     "traceback": [
      "\u001b[0;36m  File \u001b[0;32m\"<ipython-input-48-a683fe0e9b89>\"\u001b[0;36m, line \u001b[0;32m1\u001b[0m\n\u001b[0;31m    La valeur de la fonction du courant au point (0.6,0.2) est : -0.004703\u001b[0m\n\u001b[0m            ^\u001b[0m\n\u001b[0;31mSyntaxError\u001b[0m\u001b[0;31m:\u001b[0m invalid syntax\n"
     ]
    }
   ],
   "source": [
    "La valeur de la fonction du courant au point (0.6,0.2) est : -0.004703\n",
    "La valeur de la fonction du courant au point (0.6,0.4) est : -0.018196\n",
    "La valeur de la fonction du courant au point (0.6,0.6) est : -0.038475\n",
    "La valeur de la fonction du courant au point (0.6,0.8) est : -0.050566"
   ]
  },
  {
   "cell_type": "code",
   "execution_count": null,
   "metadata": {
    "collapsed": true
   },
   "outputs": [],
   "source": []
  }
 ],
 "metadata": {
  "kernelspec": {
   "display_name": "Python 3",
   "language": "python",
   "name": "python3"
  },
  "language_info": {
   "codemirror_mode": {
    "name": "ipython",
    "version": 3
   },
   "file_extension": ".py",
   "mimetype": "text/x-python",
   "name": "python",
   "nbconvert_exporter": "python",
   "pygments_lexer": "ipython3",
   "version": "3.6.8"
  }
 },
 "nbformat": 4,
 "nbformat_minor": 2
}
